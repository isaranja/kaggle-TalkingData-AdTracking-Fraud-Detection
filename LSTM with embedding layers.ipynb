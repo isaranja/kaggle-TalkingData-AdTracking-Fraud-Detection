{
 "cells": [
  {
   "cell_type": "code",
   "execution_count": 1,
   "metadata": {
    "_cell_guid": "b1076dfc-b9ad-4769-8c92-a6c4dae69d19",
    "_uuid": "8f2839f25d086af736a60e9eeb907d3b93b6e0e5"
   },
   "outputs": [
    {
     "name": "stderr",
     "output_type": "stream",
     "text": [
      "/home/amalka/anaconda3/lib/python3.6/site-packages/h5py/__init__.py:36: FutureWarning: Conversion of the second argument of issubdtype from `float` to `np.floating` is deprecated. In future, it will be treated as `np.float64 == np.dtype(float).type`.\n",
      "  from ._conv import register_converters as _register_converters\n",
      "Using TensorFlow backend.\n"
     ]
    }
   ],
   "source": [
    "# import required libraries\n",
    "import numpy as np \n",
    "import pandas as pd \n",
    "\n",
    "from sklearn import metrics\n",
    "from sklearn import preprocessing\n",
    "\n",
    "from keras.layers import Input, Embedding, Dense, Dropout, concatenate, Flatten, LSTM\n",
    "from keras.models import Model\n"
   ]
  },
  {
   "cell_type": "code",
   "execution_count": 2,
   "metadata": {},
   "outputs": [],
   "source": [
    "ip = pd.read_csv(\"ip.csv\")\n",
    "os = pd.read_csv(\"os.csv\")\n",
    "dev = pd.read_csv(\"device.csv\")\n",
    "channel = pd.read_csv(\"channel.csv\")\n",
    "app = pd.read_csv(\"app.csv\")"
   ]
  },
  {
   "cell_type": "code",
   "execution_count": 3,
   "metadata": {},
   "outputs": [],
   "source": [
    "le_ip = preprocessing.LabelEncoder()\n",
    "le_os = preprocessing.LabelEncoder()\n",
    "le_dev = preprocessing.LabelEncoder()\n",
    "le_ch = preprocessing.LabelEncoder()\n",
    "le_app = preprocessing.LabelEncoder()"
   ]
  },
  {
   "cell_type": "code",
   "execution_count": 4,
   "metadata": {},
   "outputs": [],
   "source": [
    "max_ip  = np.max(le_ip.fit_transform(ip.ip))+1\n",
    "max_dev = np.max(le_dev.fit_transform(dev.device))+1\n",
    "max_os  = np.max(le_os.fit_transform(os.os))+1\n",
    "max_ch  = np.max(le_ch.fit_transform(channel.channel))+1\n",
    "max_app = np.max(le_app.fit_transform(app.app))+1"
   ]
  },
  {
   "cell_type": "code",
   "execution_count": 5,
   "metadata": {},
   "outputs": [],
   "source": [
    "# preparing data for deep learning\n",
    "dtypes = {\n",
    "        'ip'             : 'uint32',\n",
    "        'app'            : 'uint16',\n",
    "        'device'         : 'uint16',\n",
    "        'os'             : 'uint16',\n",
    "        'channel'        : 'uint16',\n",
    "        'is_attributed'  : 'uint8',\n",
    "        }\n",
    "train_df = pd.read_csv(\"train.csv\", usecols=['ip','app','device','os', 'channel', 'is_attributed'],dtype=dtypes)\n",
    "X = {\n",
    "        'ip': np.array(le_ip.transform(train_df.ip)),\n",
    "        'os': np.array(le_os.transform(train_df.os)),\n",
    "        'dev': np.array(le_dev.transform(train_df.device)),\n",
    "        'ch': np.array(le_ch.transform(train_df.channel)),\n",
    "        'app': np.array(le_app.transform(train_df.app))\n",
    "    }\n",
    "y_train = train_df.is_attributed"
   ]
  },
  {
   "cell_type": "code",
   "execution_count": 10,
   "metadata": {},
   "outputs": [
    {
     "name": "stdout",
     "output_type": "stream",
     "text": [
      "__________________________________________________________________________________________________\n",
      "Layer (type)                    Output Shape         Param #     Connected to                     \n",
      "==================================================================================================\n",
      "ip (InputLayer)                 (None, 1)            0                                            \n",
      "__________________________________________________________________________________________________\n",
      "os (InputLayer)                 (None, 1)            0                                            \n",
      "__________________________________________________________________________________________________\n",
      "dev (InputLayer)                (None, 1)            0                                            \n",
      "__________________________________________________________________________________________________\n",
      "ch (InputLayer)                 (None, 1)            0                                            \n",
      "__________________________________________________________________________________________________\n",
      "app (InputLayer)                (None, 1)            0                                            \n",
      "__________________________________________________________________________________________________\n",
      "embedding_16 (Embedding)        (None, 1, 10)        3331680     ip[0][0]                         \n",
      "__________________________________________________________________________________________________\n",
      "embedding_17 (Embedding)        (None, 1, 10)        8570        os[0][0]                         \n",
      "__________________________________________________________________________________________________\n",
      "embedding_18 (Embedding)        (None, 1, 10)        38000       dev[0][0]                        \n",
      "__________________________________________________________________________________________________\n",
      "embedding_19 (Embedding)        (None, 1, 10)        2030        ch[0][0]                         \n",
      "__________________________________________________________________________________________________\n",
      "embedding_20 (Embedding)        (None, 1, 10)        7300        app[0][0]                        \n",
      "__________________________________________________________________________________________________\n",
      "concatenate_4 (Concatenate)     (None, 1, 50)        0           embedding_16[0][0]               \n",
      "                                                                 embedding_17[0][0]               \n",
      "                                                                 embedding_18[0][0]               \n",
      "                                                                 embedding_19[0][0]               \n",
      "                                                                 embedding_20[0][0]               \n",
      "__________________________________________________________________________________________________\n",
      "lstm_7 (LSTM)                   (None, 1, 25)        7600        concatenate_4[0][0]              \n",
      "__________________________________________________________________________________________________\n",
      "dropout_10 (Dropout)            (None, 1, 25)        0           lstm_7[0][0]                     \n",
      "__________________________________________________________________________________________________\n",
      "lstm_8 (LSTM)                   (None, 25)           5100        dropout_10[0][0]                 \n",
      "__________________________________________________________________________________________________\n",
      "dropout_11 (Dropout)            (None, 25)           0           lstm_8[0][0]                     \n",
      "__________________________________________________________________________________________________\n",
      "dense_7 (Dense)                 (None, 25)           650         dropout_11[0][0]                 \n",
      "__________________________________________________________________________________________________\n",
      "dropout_12 (Dropout)            (None, 25)           0           dense_7[0][0]                    \n",
      "__________________________________________________________________________________________________\n",
      "dense_8 (Dense)                 (None, 1)            26          dropout_12[0][0]                 \n",
      "==================================================================================================\n",
      "Total params: 3,400,956\n",
      "Trainable params: 3,400,956\n",
      "Non-trainable params: 0\n",
      "__________________________________________________________________________________________________\n"
     ]
    }
   ],
   "source": [
    "emb_n = 10\n",
    "dense_n = 25\n",
    "\n",
    "in_ip = Input(shape=[1], name = 'ip')\n",
    "emb_ip = Embedding(max_ip, emb_n)(in_ip)\n",
    "in_os = Input(shape=[1], name = 'os')\n",
    "emb_os = Embedding(max_os, emb_n)(in_os)\n",
    "in_dev = Input(shape=[1], name = 'dev')\n",
    "emb_dev = Embedding(max_dev, emb_n)(in_dev)\n",
    "in_ch = Input(shape=[1], name = 'ch')\n",
    "emb_ch = Embedding(max_ch, emb_n)(in_ch)\n",
    "in_app = Input(shape=[1], name = 'app')\n",
    "emb_app = Embedding(max_app, emb_n)(in_app)\n",
    "              \n",
    "x = concatenate([(emb_ip), emb_os, (emb_dev), (emb_ch), (emb_app)])\n",
    "\n",
    "x = LSTM(units = 25, return_sequences = True, input_shape = (5, 10))(x)\n",
    "x = Dropout(0.2)(x)\n",
    "x = LSTM(units = 25, return_sequences = False, input_shape = (5, 10))(x)\n",
    "x = Dropout(0.2)(x)\n",
    "\n",
    "x = Dense(dense_n,activation='relu')(x)\n",
    "x = Dropout(0.2)(x)\n",
    "\n",
    "outp = Dense(1,activation='sigmoid')(x)\n",
    "\n",
    "model = Model(inputs=[in_ip,in_app,in_ch,in_dev,in_os], outputs=outp)\n",
    "\n",
    "model.compile(loss='binary_crossentropy',optimizer='adam',metrics=['accuracy'])\n",
    "\n",
    "model.summary()"
   ]
  },
  {
   "cell_type": "code",
   "execution_count": 21,
   "metadata": {
    "_cell_guid": "7f125027-52f7-453f-97fe-91303f410426",
    "_uuid": "55537d5ce4e61e2d4c35b5c4656b4f8a26ad821e"
   },
   "outputs": [
    {
     "name": "stdout",
     "output_type": "stream",
     "text": [
      "Train on 166413501 samples, validate on 18490389 samples\n",
      "Epoch 1/1\n",
      "166413501/166413501 [==============================] - 3263s 20us/step - loss: 0.0063 - acc: 0.9984 - val_loss: 0.0072 - val_acc: 0.9979\n"
     ]
    },
    {
     "data": {
      "text/plain": [
       "<keras.callbacks.History at 0x7ff81afa12b0>"
      ]
     },
     "execution_count": 21,
     "metadata": {},
     "output_type": "execute_result"
    }
   ],
   "source": [
    "#training\n",
    "batch_size = 2048\n",
    "class_weight = {0: 1.,\n",
    "                1: 2.}\n",
    "validation_split=0.1\n",
    "epochs=1\n",
    "model.fit(X, y_train, batch_size=batch_size,validation_split=validation_split, epochs=epochs,shuffle=True)"
   ]
  },
  {
   "cell_type": "code",
   "execution_count": 22,
   "metadata": {
    "_cell_guid": "00857c76-2d9c-4c3c-b80b-12709b4a7d61",
    "_uuid": "4f857c8ae7f1b9c84cf13ee64d7efee4a97798b3"
   },
   "outputs": [
    {
     "name": "stdout",
     "output_type": "stream",
     "text": [
      "[[998244     63]\n",
      " [  1044    649]]\n"
     ]
    },
    {
     "data": {
      "text/plain": [
       "0.9644379890263491"
      ]
     },
     "execution_count": 22,
     "metadata": {},
     "output_type": "execute_result"
    }
   ],
   "source": [
    "# evaluating\n",
    "dtypes = {\n",
    "        'ip'             : 'uint32',\n",
    "        'app'            : 'uint16',\n",
    "        'device'         : 'uint16',\n",
    "        'os'             : 'uint16',\n",
    "        'channel'        : 'uint16',\n",
    "        'is_attributed'  : 'uint8',\n",
    "        }\n",
    "test_df = pd.read_csv(\"train.csv\",nrows=1000000, usecols=['ip','app','device','os', 'channel', 'is_attributed'],dtype=dtypes)\n",
    "X_test = {\n",
    "        'ip': np.array(le_ip.transform(test_df.ip)),\n",
    "        'os': np.array(le_os.transform(test_df.os)),\n",
    "        'dev': np.array(le_dev.transform(test_df.device)),\n",
    "        'ch': np.array(le_ch.transform(test_df.channel)),\n",
    "        'app': np.array(le_app.transform(test_df.app))\n",
    "    }\n",
    "y_test = test_df.is_attributed\n",
    "\n",
    "y_pred = model.predict(X_test)\n",
    "# accuracy\n",
    "cm = metrics.confusion_matrix(y_test, y_pred > 0.5)\n",
    "print(cm)\n",
    "# AUC\n",
    "fpr, tpr, thresholds = metrics.roc_curve(y_test.values+1, y_pred, pos_label=2)\n",
    "metrics.auc(fpr, tpr)"
   ]
  },
  {
   "cell_type": "code",
   "execution_count": 23,
   "metadata": {},
   "outputs": [],
   "source": [
    "# Submission\n",
    "submission_df = pd.read_csv(\"test.csv\",usecols=['ip','app','device','os', 'channel', 'click_id'],dtype=dtypes)\n",
    "X_submission = {\n",
    "    'ip': np.array(le_ip.transform(submission_df.ip)),\n",
    "    'os': np.array(le_os.transform(submission_df.os)),\n",
    "    'dev': np.array(le_dev.transform(submission_df.device)),\n",
    "    'ch': np.array(le_ch.transform(submission_df.channel)),\n",
    "    'app': np.array(le_app.transform(submission_df.app))\n",
    "}\n",
    "submission = pd.DataFrame()\n",
    "submission['click_id'] = submission_df.click_id\n",
    "submission['is_attributed'] = model.predict(X_submission)"
   ]
  },
  {
   "cell_type": "code",
   "execution_count": null,
   "metadata": {},
   "outputs": [],
   "source": [
    "submission.head()"
   ]
  },
  {
   "cell_type": "code",
   "execution_count": 24,
   "metadata": {},
   "outputs": [],
   "source": [
    "submission.to_csv('submission_12.csv',index=False,float_format='%.5f')"
   ]
  },
  {
   "cell_type": "code",
   "execution_count": null,
   "metadata": {},
   "outputs": [],
   "source": []
  }
 ],
 "metadata": {
  "kernelspec": {
   "display_name": "Python 3",
   "language": "python",
   "name": "python3"
  },
  "language_info": {
   "codemirror_mode": {
    "name": "ipython",
    "version": 3
   },
   "file_extension": ".py",
   "mimetype": "text/x-python",
   "name": "python",
   "nbconvert_exporter": "python",
   "pygments_lexer": "ipython3",
   "version": "3.6.4"
  }
 },
 "nbformat": 4,
 "nbformat_minor": 1
}
